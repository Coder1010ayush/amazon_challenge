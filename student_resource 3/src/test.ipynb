{
 "cells": [
  {
   "cell_type": "markdown",
   "id": "1b70b34e",
   "metadata": {},
   "source": [
    "### Basic library imports"
   ]
  },
  {
   "cell_type": "code",
   "execution_count": 1,
   "id": "719d15af",
   "metadata": {},
   "outputs": [],
   "source": [
    "import os\n",
    "import pandas as pd"
   ]
  },
  {
   "cell_type": "markdown",
   "id": "b8911e33",
   "metadata": {},
   "source": [
    "### Read Dataset"
   ]
  },
  {
   "cell_type": "code",
   "execution_count": 2,
   "id": "d3136aac",
   "metadata": {},
   "outputs": [],
   "source": [
    "DATASET_FOLDER = '../dataset/'\n",
    "train = pd.read_csv(os.path.join(DATASET_FOLDER, 'train.csv'))\n",
    "test = pd.read_csv(os.path.join(DATASET_FOLDER, 'test.csv'))\n",
    "sample_test = pd.read_csv(os.path.join(DATASET_FOLDER, 'sample_test.csv'))\n",
    "sample_test_out = pd.read_csv(os.path.join(DATASET_FOLDER, 'sample_test_out.csv'))"
   ]
  },
  {
   "cell_type": "markdown",
   "id": "60ebd689",
   "metadata": {},
   "source": [
    "### Run Sanity check using src/sanity.py"
   ]
  },
  {
   "cell_type": "code",
   "execution_count": 3,
   "id": "81bb3988",
   "metadata": {},
   "outputs": [
    {
     "name": "stdout",
     "output_type": "stream",
     "text": [
      "Parsing successfull for file: ../dataset/sample_test_out.csv\n"
     ]
    }
   ],
   "source": [
    "!python3 sanity.py --test_filename ../dataset/sample_test.csv --output_filename ../dataset/sample_test_out.csv"
   ]
  },
  {
   "cell_type": "code",
   "execution_count": 4,
   "id": "5aa79459",
   "metadata": {},
   "outputs": [
    {
     "name": "stdout",
     "output_type": "stream",
     "text": [
      "Error: Invalid unit [lbs] found in 6.75 lbs. Allowed units: {'cubic foot', 'pound', 'gram', 'cubic inch', 'ton', 'kilowatt', 'quart', 'watt', 'inch', 'millilitre', 'microgram', 'imperial gallon', 'cup', 'decilitre', 'kilogram', 'centimetre', 'kilovolt', 'millivolt', 'volt', 'fluid ounce', 'gallon', 'millimetre', 'centilitre', 'pint', 'metre', 'litre', 'milligram', 'yard', 'ounce', 'microlitre', 'foot'}\n"
     ]
    }
   ],
   "source": [
    "!python3 sanity.py --test_filename ../dataset/sample_test.csv --output_filename ../dataset/sample_test_out_fail.csv"
   ]
  },
  {
   "cell_type": "code",
   "execution_count": 4,
   "id": "04339911",
   "metadata": {},
   "outputs": [],
   "source": [
    "links = train[\"image_link\"]"
   ]
  },
  {
   "cell_type": "code",
   "execution_count": 5,
   "id": "fc6f3f03",
   "metadata": {},
   "outputs": [
    {
     "name": "stdout",
     "output_type": "stream",
     "text": [
      "97266\n"
     ]
    }
   ],
   "source": [
    "ls = os.listdir('/home/infinity/Downloads/amazon_ml/student_resource 3/src/train_images')\n",
    "print(len(ls))"
   ]
  },
  {
   "cell_type": "code",
   "execution_count": 7,
   "id": "c5ae9b01",
   "metadata": {},
   "outputs": [
    {
     "name": "stderr",
     "output_type": "stream",
     "text": [
      " 37%|███▋      | 98302/263859 [1:15:17<4:33:13, 10.10it/s]  "
     ]
    }
   ],
   "source": [
    "import os\n",
    "from utils import download_images\n",
    "download_images(image_links=links , download_folder=\"train_images\" , allow_multiprocessing=False)"
   ]
  },
  {
   "cell_type": "markdown",
   "id": "dbe930a8",
   "metadata": {},
   "source": [
    "### Download images"
   ]
  },
  {
   "cell_type": "code",
   "execution_count": 18,
   "id": "a3d1aad8",
   "metadata": {},
   "outputs": [
    {
     "name": "stdout",
     "output_type": "stream",
     "text": [
      "../avg/417NJrPEk+L.jpg"
     ]
    },
    {
     "name": "stderr",
     "output_type": "stream",
     "text": [
      "  0%|          | 0/88 [00:00<?, ?it/s]"
     ]
    },
    {
     "name": "stdout",
     "output_type": "stream",
     "text": [
      "../avg/41-NCxNuBxL.jpg../avg/417SThj+SrL.jpg../avg/41-NCxNuBxL.jpg../avg/41nblnEkJ3L.jpg../avg/41uwo4PVnuL.jpg../avg/41ADVPQgZOL.jpg../avg/41nblnEkJ3L.jpg../avg/41o3iis9E7L.jpg../avg/417SThj+SrL.jpg../avg/41pvwR9GbaL.jpg\n",
      "\n",
      "\n",
      "../avg/41uwo4PVnuL.jpg\n",
      "\n",
      "../avg/41ygXRvf8lL.jpg\n",
      "\n",
      "../avg/41zgjN+zW3L.jpg\n",
      "\n",
      "\n",
      "\n",
      "../avg/41ygXRvf8lL.jpg../avg/51+oHGvSvuL.jpg\n",
      "../avg/51-WIOx5pxL.jpg../avg/51+oHGvSvuL.jpg../avg/510xYFNYQ8L.jpg../avg/51-WIOx5pxL.jpg\n",
      "\n",
      "\n",
      "\n",
      "../avg/514pScQdlCL.jpg../avg/514bY8c4ZIL.jpg../avg/510xYFNYQ8L.jpg\n",
      "\n",
      "\n",
      "\n",
      "\n",
      "../avg/514pScQdlCL.jpg\n",
      "../avg/510xYFNYQ8L.jpg\n",
      "../avg/51EBBqNOJ1L.jpg\n",
      "../avg/514bY8c4ZIL.jpg\n",
      "../avg/51BEuVR4ZzL.jpg\n",
      "\n",
      "../avg/51BEuVR4ZzL.jpg../avg/51EBBqNOJ1L.jpg../avg/51H+mX2Wk7L.jpg\n",
      "../avg/51EBBqNOJ1L.jpg\n",
      "\n",
      "../avg/51FSlaVlejL.jpg\n",
      "../avg/51H+mX2Wk7L.jpg../avg/51KykmLgc0L.jpg\n",
      "\n",
      "../avg/51P0IuT6RsL.jpg\n",
      "../avg/51Su6zXkAsL.jpg../avg/51bEy0J5wLL.jpg\n",
      "../avg/51fAzxNm+cL.jpg../avg/51cPZYLk2YL.jpg../avg/51kdBAv6ImL.jpg../avg/51jTe522S2L.jpg\n",
      "../avg/51fAzxNm+cL.jpg../avg/51fAzxNm+cL.jpg\n",
      "\n",
      "\n",
      "\n",
      "\n",
      "../avg/51kdBAv6ImL.jpg\n",
      "\n",
      "\n",
      "\n",
      "../avg/51r7U52rh7L.jpg../avg/51l6c6UcRZL.jpg../avg/51oaOP8qJlL.jpg../avg/51oaOP8qJlL.jpg../avg/51tEop-EBJL.jpg../avg/51r7U52rh7L.jpg\n",
      "\n",
      "\n",
      "\n",
      "../avg/51y79cwGJFL.jpg\n",
      "../avg/51y79cwGJFL.jpg../avg/51r7U52rh7L.jpg\n",
      "../avg/51vwYpDz2tL.jpg../avg/51y79cwGJFL.jpg\n",
      "\n",
      "\n",
      "\n",
      "\n",
      "../avg/613P5cxQH4L.jpg../avg/613P5cxQH4L.jpg../avg/61C+fwVD6dL.jpg../avg/614hn5uX9MS.jpg../avg/61G8bvWOb-L.jpg../avg/615Cjzm6pyL.jpg../avg/61E2XRNSdYL.jpg\n",
      "../avg/615Cjzm6pyL.jpg\n",
      "\n",
      "\n",
      "\n",
      "\n",
      "\n",
      "\n",
      "../avg/61G8bvWOb-L.jpg\n",
      "../avg/61O+Yi09tyL.jpg\n",
      "../avg/61lX6IP1SVL.jpg../avg/71Qk6hR9-WL.jpg\n",
      "\n",
      "../avg/71Qk6hR9-WL.jpg../avg/71UN1IxKp4L.jpg\n",
      "\n",
      "../avg/71UN1IxKp4L.jpg\n",
      "../avg/71UYDq4nfnL.jpg\n",
      "../avg/71UYDq4nfnL.jpg../avg/71WAjPMQDWL.jpg\n",
      "\n",
      "../avg/71WAjPMQDWL.jpg../avg/71afEPoRGsL.jpg\n",
      "\n",
      "../avg/71afEPoRGsL.jpg../avg/71eCfiIG-AL.jpg../avg/71fWddA0+yL.jpg\n",
      "\n",
      "\n",
      "../avg/71ta6wY3HtL.jpg\n",
      "../avg/71ta6wY3HtL.jpg\n",
      "../avg/81PG3ea0MOL.jpg../avg/71v+pim0lfL.jpg../avg/81qUmRUUTTL.jpg../avg/81IYdOV0mVL.jpg../avg/81aZ2ozp1GL.jpg../avg/81qUmRUUTTL.jpg../avg/71v+pim0lfL.jpg\n",
      "\n",
      "\n",
      "\n",
      "\n",
      "\n",
      "\n"
     ]
    },
    {
     "name": "stderr",
     "output_type": "stream",
     "text": [
      "100%|██████████| 88/88 [00:02<00:00, 37.48it/s]\n"
     ]
    }
   ],
   "source": [
    "from utils import download_images\n",
    "download_images(sample_test['image_link'], '../avg')\n"
   ]
  },
  {
   "cell_type": "code",
   "execution_count": 6,
   "id": "89aaba53",
   "metadata": {},
   "outputs": [],
   "source": [
    "assert len(os.listdir('../avg')) > 0"
   ]
  },
  {
   "cell_type": "code",
   "execution_count": 4,
   "id": "1ba3d802",
   "metadata": {},
   "outputs": [],
   "source": [
    "# rm -rf ../images"
   ]
  },
  {
   "cell_type": "code",
   "execution_count": 19,
   "id": "6c38a641",
   "metadata": {},
   "outputs": [
    {
     "name": "stdout",
     "output_type": "stream",
     "text": [
      "61lX6IP1SVL.\n",
      "81IYdOV0mVL.\n",
      "510xYFNYQ8L.\n",
      "51KykmLgc0L.\n",
      "614hn5uX9MS.\n",
      "417NJrPEk+L.\n",
      "51fAzxNm+cL.\n",
      "51l6c6UcRZL.\n",
      "71fWddA0+yL.\n",
      "41uwo4PVnuL.\n",
      "41-NCxNuBxL.\n",
      "71WAjPMQDWL.\n",
      "51H+mX2Wk7L.\n",
      "51-WIOx5pxL.\n",
      "514pScQdlCL.\n",
      "51+oHGvSvuL.\n",
      "61O+Yi09tyL.\n",
      "71UN1IxKp4L.\n",
      "61C+fwVD6dL.\n",
      "613P5cxQH4L.\n",
      "51y79cwGJFL.\n",
      "51r7U52rh7L.\n",
      "41ADVPQgZOL.\n",
      "41zgjN+zW3L.\n",
      "51P0IuT6RsL.\n",
      "81aZ2ozp1GL.\n",
      "81qUmRUUTTL.\n",
      "61G8bvWOb-L.\n",
      "71eCfiIG-AL.\n",
      "51EBBqNOJ1L.\n",
      "71ta6wY3HtL.\n",
      "615Cjzm6pyL.\n",
      "71afEPoRGsL.\n",
      "51vwYpDz2tL.\n",
      "51bEy0J5wLL.\n",
      "71UYDq4nfnL.\n",
      "51oaOP8qJlL.\n",
      "417SThj+SrL.\n",
      "51tEop-EBJL.\n",
      "41pvwR9GbaL.\n",
      "51kdBAv6ImL.\n",
      "71v+pim0lfL.\n",
      "51BEuVR4ZzL.\n",
      "51Su6zXkAsL.\n",
      "51FSlaVlejL.\n",
      "61E2XRNSdYL.\n",
      "51cPZYLk2YL.\n",
      "81PG3ea0MOL.\n",
      "71Qk6hR9-WL.\n",
      "51jTe522S2L.\n",
      "41ygXRvf8lL.\n",
      "41nblnEkJ3L.\n",
      "41o3iis9E7L.\n",
      "514bY8c4ZIL.\n"
     ]
    }
   ],
   "source": [
    "import cv2\n",
    "import os \n",
    "files = os.listdir(path=\"/home/infinity/Downloads/amazon_ml/student_resource 3/avg\")\n",
    "for file in files:\n",
    "    print(file[:-3])\n",
    "    image =cv2.imread(\"/home/infinity/Downloads/amazon_ml/student_resource 3/avg/\"+file, 1)\n",
    "    cv2.imwrite(\"/home/infinity/Downloads/amazon_ml/student_resource 3/avg/\"+file[:-3]+\"png\", image)\n",
    "    os.remove(path=\"/home/infinity/Downloads/amazon_ml/student_resource 3/avg/\"+file)\n"
   ]
  }
 ],
 "metadata": {
  "kernelspec": {
   "display_name": "Python 3",
   "language": "python",
   "name": "python3"
  },
  "language_info": {
   "codemirror_mode": {
    "name": "ipython",
    "version": 3
   },
   "file_extension": ".py",
   "mimetype": "text/x-python",
   "name": "python",
   "nbconvert_exporter": "python",
   "pygments_lexer": "ipython3",
   "version": "3.10.12"
  }
 },
 "nbformat": 4,
 "nbformat_minor": 5
}
